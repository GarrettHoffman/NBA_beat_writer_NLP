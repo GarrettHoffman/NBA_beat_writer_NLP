{
 "cells": [
  {
   "cell_type": "markdown",
   "metadata": {},
   "source": [
    "### Setup"
   ]
  },
  {
   "cell_type": "code",
   "execution_count": 2,
   "metadata": {
    "collapsed": true
   },
   "outputs": [],
   "source": [
    "%matplotlib inline\n",
    "import nltk\n",
    "from textblob import TextBlob\n",
    "import pandas as pd\n",
    "import pymongo\n",
    "import numpy as np\n",
    "from datetime import datetime\n",
    "from nltk.corpus import stopwords\n",
    "from sklearn.feature_extraction.text import CountVectorizer\n",
    "import pandas as pd\n",
    "from sklearn.preprocessing import MinMaxScaler\n",
    "from sklearn.decomposition import PCA\n",
    "from sklearn.cluster import KMeans\n",
    "import matplotlib.pyplot as plt\n",
    "from nltk.util import ngrams\n",
    "from collections import defaultdict\n",
    "from operator import itemgetter\n",
    "from sklearn.externals import joblib"
   ]
  },
  {
   "cell_type": "code",
   "execution_count": 3,
   "metadata": {
    "collapsed": true
   },
   "outputs": [],
   "source": [
    "stop = stopwords.words('english')\n",
    "stop += ['.', ',', '(', ')', '\"', ':', '/', \"\"]"
   ]
  },
  {
   "cell_type": "code",
   "execution_count": 4,
   "metadata": {
    "collapsed": true
   },
   "outputs": [],
   "source": [
    "def calc_day(dt):\n",
    "    date = dt[:10] + \" \" + dt[-4:]\n",
    "    return datetime.strptime(date, '%a %b %d %Y').strftime('%D')"
   ]
  },
  {
   "cell_type": "code",
   "execution_count": 5,
   "metadata": {
    "collapsed": true
   },
   "outputs": [],
   "source": [
    "def polarity_group_func(text):\n",
    "    if TextBlob(text).polarity < 0:\n",
    "        return 'Negative'\n",
    "    if TextBlob(text).polarity > 0:\n",
    "        return 'Positive'\n",
    "    if TextBlob(text).polarity == 0:\n",
    "        return 'Neutral'"
   ]
  },
  {
   "cell_type": "code",
   "execution_count": 6,
   "metadata": {
    "collapsed": true
   },
   "outputs": [],
   "source": [
    "def rounded_subj(text):\n",
    "    return round(TextBlob(text).subjectivity,1)"
   ]
  },
  {
   "cell_type": "markdown",
   "metadata": {},
   "source": [
    "# Celtics"
   ]
  },
  {
   "cell_type": "markdown",
   "metadata": {},
   "source": [
    "### Sentiment Analysis, Fix Date, Add Team"
   ]
  },
  {
   "cell_type": "code",
   "execution_count": 7,
   "metadata": {
    "collapsed": false
   },
   "outputs": [],
   "source": [
    "client = pymongo.MongoClient()\n",
    "db = client.nbabeatwritertweets\n",
    "celtics = client.nbabeatwritertweets.celtics"
   ]
  },
  {
   "cell_type": "code",
   "execution_count": 8,
   "metadata": {
    "collapsed": false
   },
   "outputs": [],
   "source": [
    "for doc in celtics.find({}, {\"text\": 1, \"datetime\": 1}):\n",
    "    polarity = TextBlob(doc[\"text\"]).polarity\n",
    "    subjectivity = TextBlob(doc[\"text\"]).subjectivity\n",
    "    polarity_group = polarity_group_func(doc[\"text\"])\n",
    "    subjectivity_group = rounded_subj(doc[\"text\"])\n",
    "    date = calc_day(doc['datetime'])\n",
    "    team = 'Boston Celtics'.encode('utf-8')\n",
    "    celtics.update_one({\"_id\": doc[\"_id\"]}, {\"$set\": {\"polarity\": polarity, \n",
    "                                                      \"subjectivity\": subjectivity,\n",
    "                                                      \"polarity_group\": polarity_group,\n",
    "                                                      \"subjectivity_group\": subjectivity_group,\n",
    "                                                      \"date\": date,\n",
    "                                                      \"team\": team}})"
   ]
  },
  {
   "cell_type": "code",
   "execution_count": 9,
   "metadata": {
    "collapsed": false
   },
   "outputs": [
    {
     "name": "stdout",
     "output_type": "stream",
     "text": [
      "{u'polarity': 0.06666666666666667, u'reporter': u'Steve Bulpett', u'text': u'Back in the parallel video board universe, Gino warming up his hamstrings, getting ready to dance. Someone tell KG to turn on league pass.', u'polarity_group': u'Positive', u'team': u'Boston Celtics', u'subjectivity_group': 0.2, u'subjectivity': 0.16666666666666666, u'date': u'11/07/15'}\n",
      "{u'polarity': 0.0, u'reporter': u'Steve Bulpett', u'text': u\"Today's column quotes Auerbach and Wooden. In heaven. (Wait until the Herald sees the expense report for this trip.) https://t.co/QYDgYPhuxR\", u'polarity_group': u'Neutral', u'team': u'Boston Celtics', u'subjectivity_group': 0.0, u'subjectivity': 0.0, u'date': u'11/07/15'}\n",
      "{u'polarity': -0.16666666666666666, u'reporter': u'Steve Bulpett', u'text': u\"Tyler Zeller has gone from Celts' starting center to waiting for Gino to hit the video board so he can get into the game. DNP through 3Q.\", u'polarity_group': u'Negative', u'team': u'Boston Celtics', u'subjectivity_group': 0.2, u'subjectivity': 0.20000000000000004, u'date': u'11/07/15'}\n",
      "{u'polarity': -0.06666666666666667, u'reporter': u'Steve Bulpett', u'text': u\"Sullinger asks out of game. While he's waiting for help, he hits his 2nd straight 3, rebounds Beal miss and outlets to Thomas for FB layup.\", u'polarity_group': u'Negative', u'team': u'Boston Celtics', u'subjectivity_group': 0.3, u'subjectivity': 0.26666666666666666, u'date': u'11/07/15'}\n",
      "{u'polarity': -0.22916666666666669, u'reporter': u'Steve Bulpett', u'text': u'Celts lead Washington 72-49 at half. Refs sweating hard as they head to dressing room. Somebody get my man Joey Crawford some oxygen.', u'polarity_group': u'Negative', u'team': u'Boston Celtics', u'subjectivity_group': 0.4, u'subjectivity': 0.35416666666666663, u'date': u'11/07/15'}\n"
     ]
    }
   ],
   "source": [
    "for doc in celtics.find({}, {\"reporter\": 1, \n",
    "                             \"text\": 1, \n",
    "                             \"polarity\": 1, \n",
    "                             \"subjectivity\": 1,\n",
    "                             \"polarity_group\": 1,\n",
    "                             \"subjectivity_group\": 1,\n",
    "                             \"date\": 1,\n",
    "                             \"team\": 1,\n",
    "                             \"_id\": 0}).limit(5):\n",
    "    print doc"
   ]
  },
  {
   "cell_type": "markdown",
   "metadata": {},
   "source": [
    "### Topic Modeling"
   ]
  },
  {
   "cell_type": "code",
   "execution_count": 10,
   "metadata": {
    "collapsed": true
   },
   "outputs": [],
   "source": [
    "tweets = []\n",
    "for doc in celtics.find({}, {\"text\": 1}):\n",
    "    tweet = doc[\"text\"]\n",
    "    tweets.append(tweet)"
   ]
  },
  {
   "cell_type": "code",
   "execution_count": 11,
   "metadata": {
    "collapsed": false
   },
   "outputs": [],
   "source": [
    "text = [\" \".join([w for w in doc.lower().split() if w not in stop]) for doc in tweets]"
   ]
  },
  {
   "cell_type": "code",
   "execution_count": 12,
   "metadata": {
    "collapsed": true
   },
   "outputs": [],
   "source": [
    "vectorizer = CountVectorizer()\n",
    "vectorizer.fit(text)\n",
    "x = vectorizer.transform(text)\n",
    "x_back = x.toarray()\n",
    "X_bag = pd.DataFrame(x_back, columns=vectorizer.get_feature_names())"
   ]
  },
  {
   "cell_type": "code",
   "execution_count": 13,
   "metadata": {
    "collapsed": false
   },
   "outputs": [],
   "source": [
    "scaler = MinMaxScaler()\n",
    "X_bag_scaled = pd.DataFrame(scaler.fit_transform(X_bag), columns=X_bag.columns)"
   ]
  },
  {
   "cell_type": "code",
   "execution_count": 14,
   "metadata": {
    "collapsed": true
   },
   "outputs": [],
   "source": [
    "reducer = PCA(n_components = 2)\n",
    "reduced_X = reducer.fit_transform(X_bag_scaled)"
   ]
  },
  {
   "cell_type": "code",
   "execution_count": 15,
   "metadata": {
    "collapsed": false
   },
   "outputs": [],
   "source": [
    "pca_components = reducer.components_"
   ]
  },
  {
   "cell_type": "code",
   "execution_count": 16,
   "metadata": {
    "collapsed": false
   },
   "outputs": [
    {
     "name": "stdout",
     "output_type": "stream",
     "text": [
      "[[ 0.00027331  0.00028329  0.00022203 ...,  0.00025207  0.00061244\n",
      "   0.0003165 ]\n",
      " [-0.00114404  0.00070277 -0.00057333 ...,  0.00260754  0.00030244\n",
      "   0.00206887]]\n",
      "(2, 4419)\n"
     ]
    }
   ],
   "source": [
    "print pca_components\n",
    "print pca_components.shape"
   ]
  },
  {
   "cell_type": "code",
   "execution_count": 23,
   "metadata": {
    "collapsed": false
   },
   "outputs": [
    {
     "data": {
      "text/plain": [
       "KMeans(copy_x=True, init='k-means++', max_iter=300, n_clusters=8, n_init=10,\n",
       "    n_jobs=1, precompute_distances='auto', random_state=None, tol=0.0001,\n",
       "    verbose=0)"
      ]
     },
     "execution_count": 23,
     "metadata": {},
     "output_type": "execute_result"
    }
   ],
   "source": [
    "kmeans = KMeans(n_clusters=8)\n",
    "kmeans.fit(reduced_X)"
   ]
  },
  {
   "cell_type": "code",
   "execution_count": 24,
   "metadata": {
    "collapsed": false
   },
   "outputs": [
    {
     "data": {
      "text/plain": [
       "['celtics_kmeans.pkl',\n",
       " 'celtics_kmeans.pkl_01.npy',\n",
       " 'celtics_kmeans.pkl_02.npy']"
      ]
     },
     "execution_count": 24,
     "metadata": {},
     "output_type": "execute_result"
    }
   ],
   "source": [
    "joblib.dump(kmeans, 'celtics_kmeans.pkl')"
   ]
  },
  {
   "cell_type": "code",
   "execution_count": 25,
   "metadata": {
    "collapsed": false
   },
   "outputs": [],
   "source": [
    "kmeans = joblib.load('celtics_kmeans.pkl')"
   ]
  },
  {
   "cell_type": "code",
   "execution_count": 26,
   "metadata": {
    "collapsed": true
   },
   "outputs": [],
   "source": [
    "k_means_labels = kmeans.labels_\n",
    "k_means_cluster_centers = kmeans.cluster_centers_\n",
    "k_means_labels_unique = np.unique(k_means_labels)\n",
    "n_clusters = len(k_means_cluster_centers)"
   ]
  },
  {
   "cell_type": "code",
   "execution_count": 27,
   "metadata": {
    "collapsed": false,
    "scrolled": true
   },
   "outputs": [
    {
     "data": {
      "image/png": "[encoded data removed]",
      "text/plain": [
       "<matplotlib.figure.Figure at 0x10bfdec50>"
      ]
     },
     "metadata": {},
     "output_type": "display_data"
    }
   ],
   "source": [
    "colors = ['#4EACC5', '#FF9C34', '#4E9A06', '#FF69B4', '#A020F0', '#FF524D', '#FF7F00', '#2D2D2D', '#585555', '#601c1c']\n",
    "plt.figure()\n",
    "plt.hold(True)\n",
    "for k, col in zip(range(n_clusters), colors):\n",
    "    my_members = k_means_labels == k\n",
    "    cluster_center = k_means_cluster_centers[k]\n",
    "    plt.plot(reduced_X[my_members, 0], reduced_X[my_members, 1], 'w',\n",
    "            markerfacecolor=col, marker='.')\n",
    "    plt.plot(cluster_center[0], cluster_center[1], 'o', markerfacecolor=col,\n",
    "            markeredgecolor='k', markersize=6)\n",
    "plt.title('KMeans')    \n",
    "plt.grid(True)\n",
    "plt.show()"
   ]
  },
  {
   "cell_type": "markdown",
   "metadata": {},
   "source": [
    "0 - Blue, 1 - Yellow, 2 - Green, 3 - Pink, 4 - Purple, 5 - Red, 6 - Orange, 7 - Black"
   ]
  },
  {
   "cell_type": "code",
   "execution_count": 38,
   "metadata": {
    "collapsed": true
   },
   "outputs": [],
   "source": [
    "topics = {0: 'Marcus Smart',\n",
    "          1: 'Rookies',\n",
    "          2: 'Evan Turner',\n",
    "          3: 'Evan Turner',\n",
    "          4: 'Brad Stevens',\n",
    "          5: 'Danny Ainge',\n",
    "          6: 'Gameplay',\n",
    "          7: 'RJ Hunter'}"
   ]
  },
  {
   "cell_type": "code",
   "execution_count": 28,
   "metadata": {
    "collapsed": true
   },
   "outputs": [],
   "source": [
    "grouped_tweets = zip(text,k_means_labels)"
   ]
  },
  {
   "cell_type": "code",
   "execution_count": 29,
   "metadata": {
    "collapsed": true
   },
   "outputs": [],
   "source": [
    "group_0 = [tup for tup in grouped_tweets if tup[1] == 0]\n",
    "group_1 = [tup for tup in grouped_tweets if tup[1] == 1]\n",
    "group_2 = [tup for tup in grouped_tweets if tup[1] == 2]\n",
    "group_3 = [tup for tup in grouped_tweets if tup[1] == 3]\n",
    "group_4 = [tup for tup in grouped_tweets if tup[1] == 4]\n",
    "group_5 = [tup for tup in grouped_tweets if tup[1] == 5]\n",
    "group_6 = [tup for tup in grouped_tweets if tup[1] == 6]\n",
    "group_7 = [tup for tup in grouped_tweets if tup[1] == 7]"
   ]
  },
  {
   "cell_type": "code",
   "execution_count": 30,
   "metadata": {
    "collapsed": false
   },
   "outputs": [
    {
     "name": "stdout",
     "output_type": "stream",
     "text": [
      "        marcus smart 106\n",
      "        brad stevens 59\n",
      "         jae crowder 50\n",
      "     jared sullinger 48\n",
      "       avery bradley 32\n"
     ]
    }
   ],
   "source": [
    "counter_0 = defaultdict(int)\n",
    "\n",
    "n = 2\n",
    "for tweet,group in group_0:\n",
    "    words = TextBlob(tweet).words\n",
    "    words = [w for w in words if w not in stop]\n",
    "    bigrams = ngrams(words, n)\n",
    "    for gram in bigrams:\n",
    "        counter_0[gram] += 1\n",
    "        \n",
    "for gram, count in sorted(counter_0.items(), key = itemgetter(1), reverse=True)[:5]:\n",
    "    phrase = \" \".join(gram)\n",
    "    print '%20s %i' % (phrase, count)"
   ]
  },
  {
   "cell_type": "code",
   "execution_count": 31,
   "metadata": {
    "collapsed": false
   },
   "outputs": [
    {
     "name": "stdout",
     "output_type": "stream",
     "text": [
      "           rj hunter 38\n",
      "        brad stevens 36\n",
      "         james young 26\n",
      "        celtics fans 24\n",
      "        marcus smart 24\n"
     ]
    }
   ],
   "source": [
    "counter_1 = defaultdict(int)\n",
    "\n",
    "n = 2\n",
    "for tweet,group in group_1:\n",
    "    words = TextBlob(tweet).words\n",
    "    words = [w for w in words if w not in stop]\n",
    "    bigrams = ngrams(words, n)\n",
    "    for gram in bigrams:\n",
    "        counter_1[gram] += 1\n",
    "        \n",
    "for gram, count in sorted(counter_1.items(), key = itemgetter(1), reverse=True)[:5]:\n",
    "    phrase = \" \".join(gram)\n",
    "    print '%20s %i' % (phrase, count)"
   ]
  },
  {
   "cell_type": "code",
   "execution_count": 32,
   "metadata": {
    "collapsed": false
   },
   "outputs": [
    {
     "name": "stdout",
     "output_type": "stream",
     "text": [
      "         evan turner 113\n",
      "        brad stevens 26\n",
      "      breath alcohol 18\n",
      "          half court 13\n",
      "        office drugs 13\n"
     ]
    }
   ],
   "source": [
    "counter_2 = defaultdict(int)\n",
    "\n",
    "n = 2\n",
    "for tweet,group in group_2:\n",
    "    words = TextBlob(tweet).words\n",
    "    words = [w for w in words if w not in stop]\n",
    "    bigrams = ngrams(words, n)\n",
    "    for gram in bigrams:\n",
    "        counter_2[gram] += 1\n",
    "        \n",
    "for gram, count in sorted(counter_2.items(), key = itemgetter(1), reverse=True)[:5]:\n",
    "    phrase = \" \".join(gram)\n",
    "    print '%20s %i' % (phrase, count)"
   ]
  },
  {
   "cell_type": "code",
   "execution_count": 33,
   "metadata": {
    "collapsed": false
   },
   "outputs": [
    {
     "name": "stdout",
     "output_type": "stream",
     "text": [
      "           make logo 37\n",
      "         evan turner 37\n",
      "           would get 23\n",
      "             'd make 23\n",
      "         women would 23\n"
     ]
    }
   ],
   "source": [
    "counter_3 = defaultdict(int)\n",
    "\n",
    "n = 2\n",
    "for tweet,group in group_3:\n",
    "    words = TextBlob(tweet).words\n",
    "    words = [w for w in words if w not in stop]\n",
    "    bigrams = ngrams(words, n)\n",
    "    for gram in bigrams:\n",
    "        counter_3[gram] += 1\n",
    "        \n",
    "for gram, count in sorted(counter_3.items(), key = itemgetter(1), reverse=True)[:5]:\n",
    "    phrase = \" \".join(gram)\n",
    "    print '%20s %i' % (phrase, count)"
   ]
  },
  {
   "cell_type": "code",
   "execution_count": 34,
   "metadata": {
    "collapsed": false
   },
   "outputs": [
    {
     "name": "stdout",
     "output_type": "stream",
     "text": [
      "        brad stevens 109\n",
      "       isaiah thomas 66\n",
      "        marcus smart 41\n",
      "       avery bradley 41\n",
      "       celtics coach 31\n"
     ]
    }
   ],
   "source": [
    "counter_4 = defaultdict(int)\n",
    "\n",
    "n = 2\n",
    "for tweet,group in group_4:\n",
    "    words = TextBlob(tweet).words\n",
    "    words = [w for w in words if w not in stop]\n",
    "    bigrams = ngrams(words, n)\n",
    "    for gram in bigrams:\n",
    "        counter_4[gram] += 1\n",
    "        \n",
    "for gram, count in sorted(counter_4.items(), key = itemgetter(1), reverse=True)[:5]:\n",
    "    phrase = \" \".join(gram)\n",
    "    print '%20s %i' % (phrase, count)"
   ]
  },
  {
   "cell_type": "code",
   "execution_count": 35,
   "metadata": {
    "collapsed": false
   },
   "outputs": [
    {
     "name": "stdout",
     "output_type": "stream",
     "text": [
      "           's sunday 13\n",
      "        bird message 13\n",
      "         danny ainge 13\n",
      "           herald 's 13\n",
      "https t.co/gr8vk3njjd 13\n"
     ]
    }
   ],
   "source": [
    "counter_5 = defaultdict(int)\n",
    "\n",
    "n = 2\n",
    "for tweet,group in group_5:\n",
    "    words = TextBlob(tweet).words\n",
    "    words = [w for w in words if w not in stop]\n",
    "    bigrams = ngrams(words, n)\n",
    "    for gram in bigrams:\n",
    "        counter_5[gram] += 1\n",
    "        \n",
    "for gram, count in sorted(counter_5.items(), key = itemgetter(1), reverse=True)[:5]:\n",
    "    phrase = \" \".join(gram)\n",
    "    print '%20s %i' % (phrase, count)"
   ]
  },
  {
   "cell_type": "code",
   "execution_count": 36,
   "metadata": {
    "collapsed": false
   },
   "outputs": [
    {
     "name": "stdout",
     "output_type": "stream",
     "text": [
      "       kevin garnett 35\n",
      "      reacting hawks 19\n",
      "           win https 19\n",
      "   casually reacting 19\n",
      "       miss clinched 19\n"
     ]
    }
   ],
   "source": [
    "counter_6 = defaultdict(int)\n",
    "\n",
    "n = 2\n",
    "for tweet,group in group_6:\n",
    "    words = TextBlob(tweet).words\n",
    "    words = [w for w in words if w not in stop]\n",
    "    bigrams = ngrams(words, n)\n",
    "    for gram in bigrams:\n",
    "        counter_6[gram] += 1\n",
    "        \n",
    "for gram, count in sorted(counter_6.items(), key = itemgetter(1), reverse=True)[:5]:\n",
    "    phrase = \" \".join(gram)\n",
    "    print '%20s %i' % (phrase, count)"
   ]
  },
  {
   "cell_type": "code",
   "execution_count": 37,
   "metadata": {
    "collapsed": false
   },
   "outputs": [
    {
     "name": "stdout",
     "output_type": "stream",
     "text": [
      "        brad stevens 37\n",
      "           rj hunter 34\n",
      "         james young 28\n",
      "                c 's 25\n",
      "           n't count 24\n"
     ]
    }
   ],
   "source": [
    "counter_7 = defaultdict(int)\n",
    "\n",
    "n = 2\n",
    "for tweet,group in group_7:\n",
    "    words = TextBlob(tweet).words\n",
    "    words = [w for w in words if w not in stop]\n",
    "    bigrams = ngrams(words, n)\n",
    "    for gram in bigrams:\n",
    "        counter_7[gram] += 1\n",
    "        \n",
    "for gram, count in sorted(counter_7.items(), key = itemgetter(1), reverse=True)[:5]:\n",
    "    phrase = \" \".join(gram)\n",
    "    print '%20s %i' % (phrase, count)"
   ]
  },
  {
   "cell_type": "code",
   "execution_count": 38,
   "metadata": {
    "collapsed": true
   },
   "outputs": [],
   "source": [
    "topics = {0: 'Marcus Smart',\n",
    "          1: 'Rookies',\n",
    "          2: 'Evan Turner',\n",
    "          3: 'Evan Turner',\n",
    "          4: 'Brad Stevens',\n",
    "          5: 'Danny Ainge',\n",
    "          6: 'Gameplay',\n",
    "          7: 'RJ Hunter'}"
   ]
  },
  {
   "cell_type": "markdown",
   "metadata": {},
   "source": [
    "### Add Topic to Data"
   ]
  },
  {
   "cell_type": "code",
   "execution_count": 39,
   "metadata": {
    "collapsed": false
   },
   "outputs": [],
   "source": [
    "_ids = []\n",
    "for doc in celtics.find({}, {}):\n",
    "    _id = doc[\"_id\"]\n",
    "    _ids.append(_id)"
   ]
  },
  {
   "cell_type": "code",
   "execution_count": 40,
   "metadata": {
    "collapsed": false
   },
   "outputs": [],
   "source": [
    "id_groups = zip(_ids,k_means_labels)"
   ]
  },
  {
   "cell_type": "code",
   "execution_count": 41,
   "metadata": {
    "collapsed": true
   },
   "outputs": [],
   "source": [
    "id_group_dict = {str(_id): group for _id, group in id_groups}"
   ]
  },
  {
   "cell_type": "code",
   "execution_count": 42,
   "metadata": {
    "collapsed": true
   },
   "outputs": [],
   "source": [
    "for doc in celtics.find({}, {}):\n",
    "    topic = topics[id_group_dict[str(doc[\"_id\"])]]\n",
    "    celtics.update_one({\"_id\": doc[\"_id\"]}, {\"$set\": {\"topic\": topic}})"
   ]
  },
  {
   "cell_type": "code",
   "execution_count": 43,
   "metadata": {
    "collapsed": false,
    "scrolled": true
   },
   "outputs": [
    {
     "name": "stdout",
     "output_type": "stream",
     "text": [
      "{u'topic': u'Rookies', u'text': u'Back in the parallel video board universe, Gino warming up his hamstrings, getting ready to dance. Someone tell KG to turn on league pass.'}\n",
      "{u'topic': u'RJ Hunter', u'text': u\"Today's column quotes Auerbach and Wooden. In heaven. (Wait until the Herald sees the expense report for this trip.) https://t.co/QYDgYPhuxR\"}\n",
      "{u'topic': u'Brad Stevens', u'text': u\"Tyler Zeller has gone from Celts' starting center to waiting for Gino to hit the video board so he can get into the game. DNP through 3Q.\"}\n",
      "{u'topic': u'Brad Stevens', u'text': u\"Sullinger asks out of game. While he's waiting for help, he hits his 2nd straight 3, rebounds Beal miss and outlets to Thomas for FB layup.\"}\n",
      "{u'topic': u'Brad Stevens', u'text': u'Celts lead Washington 72-49 at half. Refs sweating hard as they head to dressing room. Somebody get my man Joey Crawford some oxygen.'}\n"
     ]
    }
   ],
   "source": [
    "for doc in celtics.find({}, {\"text\": 1, \n",
    "                             \"topic\": 1,\n",
    "                             \"_id\": 0}).limit(5):\n",
    "    print doc"
   ]
  },
  {
   "cell_type": "markdown",
   "metadata": {},
   "source": [
    "# Knicks"
   ]
  },
  {
   "cell_type": "markdown",
   "metadata": {},
   "source": [
    "### Sentiment Analysis, Fix Date, Add Team"
   ]
  },
  {
   "cell_type": "code",
   "execution_count": 44,
   "metadata": {
    "collapsed": true
   },
   "outputs": [],
   "source": [
    "client = pymongo.MongoClient()\n",
    "db = client.nbabeatwritertweets\n",
    "knicks = client.nbabeatwritertweets.knicks"
   ]
  },
  {
   "cell_type": "code",
   "execution_count": 45,
   "metadata": {
    "collapsed": false
   },
   "outputs": [],
   "source": [
    "for doc in knicks.find({}, {\"text\": 1, \"datetime\": 1}):\n",
    "    polarity = TextBlob(doc[\"text\"]).polarity\n",
    "    subjectivity = TextBlob(doc[\"text\"]).subjectivity\n",
    "    polarity_group = polarity_group_func(doc[\"text\"])\n",
    "    subjectivity_group = rounded_subj(doc[\"text\"])\n",
    "    date = calc_day(doc['datetime'])\n",
    "    team = 'New York Knicks'.encode('utf-8')\n",
    "    knicks.update_one({\"_id\": doc[\"_id\"]}, {\"$set\": {\"polarity\": polarity, \n",
    "                                                      \"subjectivity\": subjectivity,\n",
    "                                                      \"polarity_group\": polarity_group,\n",
    "                                                      \"subjectivity_group\": subjectivity_group,\n",
    "                                                      \"date\": date,\n",
    "                                                      \"team\": team}})"
   ]
  },
  {
   "cell_type": "code",
   "execution_count": 46,
   "metadata": {
    "collapsed": false,
    "scrolled": true
   },
   "outputs": [
    {
     "name": "stdout",
     "output_type": "stream",
     "text": [
      "{u'polarity': 0.0, u'reporter': u'Al Iannazzone', u'text': u\"Carmelo Anthony likes the shots he's getting but he's bothered by all the misses: https://t.co/Qqsw696DS0\", u'polarity_group': u'Neutral', u'team': u'New York Knicks', u'subjectivity_group': 0.0, u'subjectivity': 0.0, u'date': u'11/05/15'}\n",
      "{u'polarity': 0.25, u'reporter': u'Al Iannazzone', u'text': u\"First LeBron ripped his sleeves, then he ripped the Knicks' hearts out: https://t.co/3zhMC7yePM\", u'polarity_group': u'Positive', u'team': u'New York Knicks', u'subjectivity_group': 0.3, u'subjectivity': 0.3333333333333333, u'date': u'11/05/15'}\n",
      "{u'polarity': 0.0, u'reporter': u'Al Iannazzone', u'text': u\"I'd like @ScottCacciola and @StevePopper to be forever retired from sporting events. https://t.co/PHPZLwVJQH\", u'polarity_group': u'Neutral', u'team': u'New York Knicks', u'subjectivity_group': 0.0, u'subjectivity': 0.0, u'date': u'11/05/15'}\n",
      "{u'polarity': -0.09999999999999998, u'reporter': u'Al Iannazzone', u'text': u\"Bad foul by Porzingis. He was out of position and pushed Mozgov for his fourth foul, and he's having another good game with 13 points.\", u'polarity_group': u'Negative', u'team': u'New York Knicks', u'subjectivity_group': 0.4, u'subjectivity': 0.41666666666666663, u'date': u'11/05/15'}\n",
      "{u'polarity': 0.0, u'reporter': u'Al Iannazzone', u'text': u\"Knicks went 5 1/2 minutes without a field goal but still lead Cavs 42-37 after a Porzingis' put-back dunk.\", u'polarity_group': u'Neutral', u'team': u'New York Knicks', u'subjectivity_group': 0.0, u'subjectivity': 0.0, u'date': u'11/05/15'}\n"
     ]
    }
   ],
   "source": [
    "for doc in knicks.find({}, {\"reporter\": 1, \n",
    "                             \"text\": 1, \n",
    "                             \"polarity\": 1, \n",
    "                             \"subjectivity\": 1,\n",
    "                             \"polarity_group\": 1,\n",
    "                             \"subjectivity_group\": 1,\n",
    "                             \"date\": 1,\n",
    "                             \"team\": 1,\n",
    "                             \"_id\": 0}).limit(5):\n",
    "    print doc"
   ]
  },
  {
   "cell_type": "markdown",
   "metadata": {},
   "source": [
    "### Topic Modeling"
   ]
  },
  {
   "cell_type": "code",
   "execution_count": 47,
   "metadata": {
    "collapsed": true
   },
   "outputs": [],
   "source": [
    "tweets = []\n",
    "for doc in knicks.find({}, {\"text\": 1}):\n",
    "    tweet = doc[\"text\"]\n",
    "    tweets.append(tweet)"
   ]
  },
  {
   "cell_type": "code",
   "execution_count": 48,
   "metadata": {
    "collapsed": true
   },
   "outputs": [],
   "source": [
    "text = [\" \".join([w for w in doc.lower().split() if w not in stop]) for doc in tweets]"
   ]
  },
  {
   "cell_type": "code",
   "execution_count": 49,
   "metadata": {
    "collapsed": true
   },
   "outputs": [],
   "source": [
    "vectorizer = CountVectorizer()\n",
    "vectorizer.fit(text)\n",
    "x = vectorizer.transform(text)\n",
    "x_back = x.toarray()\n",
    "X_bag = pd.DataFrame(x_back, columns=vectorizer.get_feature_names())"
   ]
  },
  {
   "cell_type": "code",
   "execution_count": 50,
   "metadata": {
    "collapsed": false
   },
   "outputs": [],
   "source": [
    "scaler = MinMaxScaler()\n",
    "X_bag_scaled = pd.DataFrame(scaler.fit_transform(X_bag), columns=X_bag.columns)"
   ]
  },
  {
   "cell_type": "code",
   "execution_count": 51,
   "metadata": {
    "collapsed": true
   },
   "outputs": [],
   "source": [
    "reducer = PCA(n_components = 2)\n",
    "reduced_X = reducer.fit_transform(X_bag_scaled)"
   ]
  },
  {
   "cell_type": "code",
   "execution_count": 52,
   "metadata": {
    "collapsed": false
   },
   "outputs": [],
   "source": [
    "pca_components = reducer.components_"
   ]
  },
  {
   "cell_type": "code",
   "execution_count": 53,
   "metadata": {
    "collapsed": false
   },
   "outputs": [
    {
     "name": "stdout",
     "output_type": "stream",
     "text": [
      "[[  7.02910593e-05   5.87328929e-04   7.03559931e-05 ...,   7.04031087e-05\n",
      "    2.35929683e-04   3.11270163e-04]\n",
      " [  2.01254573e-04   3.88497000e-04   3.94813521e-04 ...,  -1.49915715e-04\n",
      "   -1.73915857e-04  -2.57416439e-04]]\n",
      "(2, 3364)\n"
     ]
    }
   ],
   "source": [
    "print pca_components\n",
    "print pca_components.shape"
   ]
  },
  {
   "cell_type": "code",
   "execution_count": 69,
   "metadata": {
    "collapsed": false
   },
   "outputs": [
    {
     "data": {
      "text/plain": [
       "KMeans(copy_x=True, init='k-means++', max_iter=300, n_clusters=8, n_init=10,\n",
       "    n_jobs=1, precompute_distances='auto', random_state=None, tol=0.0001,\n",
       "    verbose=0)"
      ]
     },
     "execution_count": 69,
     "metadata": {},
     "output_type": "execute_result"
    }
   ],
   "source": [
    "kmeans = KMeans(n_clusters=8)\n",
    "kmeans.fit(reduced_X)"
   ]
  },
  {
   "cell_type": "code",
   "execution_count": 70,
   "metadata": {
    "collapsed": false,
    "scrolled": true
   },
   "outputs": [
    {
     "data": {
      "text/plain": [
       "['knicks_kmeans.pkl', 'knicks_kmeans.pkl_01.npy', 'knicks_kmeans.pkl_02.npy']"
      ]
     },
     "execution_count": 70,
     "metadata": {},
     "output_type": "execute_result"
    }
   ],
   "source": [
    "joblib.dump(kmeans, 'knicks_kmeans.pkl')"
   ]
  },
  {
   "cell_type": "code",
   "execution_count": 71,
   "metadata": {
    "collapsed": false
   },
   "outputs": [],
   "source": [
    "kmeans = joblib.load('knicks_kmeans.pkl')"
   ]
  },
  {
   "cell_type": "code",
   "execution_count": 72,
   "metadata": {
    "collapsed": true
   },
   "outputs": [],
   "source": [
    "k_means_labels = kmeans.labels_\n",
    "k_means_cluster_centers = kmeans.cluster_centers_\n",
    "k_means_labels_unique = np.unique(k_means_labels)\n",
    "n_clusters = len(k_means_cluster_centers)"
   ]
  },
  {
   "cell_type": "code",
   "execution_count": 73,
   "metadata": {
    "collapsed": false
   },
   "outputs": [
    {
     "data": {
      "image/png": "[encoded data removed]",
      "text/plain": [
       "<matplotlib.figure.Figure at 0x10bfde510>"
      ]
     },
     "metadata": {},
     "output_type": "display_data"
    }
   ],
   "source": [
    "colors = ['#4EACC5', '#FF9C34', '#4E9A06', '#FF69B4', '#A020F0', '#FF524D', '#FF7F00', '#2D2D2D', '#585555', '#601c1c']\n",
    "plt.figure()\n",
    "plt.hold(True)\n",
    "for k, col in zip(range(n_clusters), colors):\n",
    "    my_members = k_means_labels == k\n",
    "    cluster_center = k_means_cluster_centers[k]\n",
    "    plt.plot(reduced_X[my_members, 0], reduced_X[my_members, 1], 'w',\n",
    "            markerfacecolor=col, marker='.')\n",
    "    plt.plot(cluster_center[0], cluster_center[1], 'o', markerfacecolor=col,\n",
    "            markeredgecolor='k', markersize=6)\n",
    "plt.title('KMeans')    \n",
    "plt.grid(True)\n",
    "plt.show()"
   ]
  },
  {
   "cell_type": "markdown",
   "metadata": {},
   "source": [
    "0 - Blue, 1 - Yellow, 2 - Green, 3 - Pink, 4 - Purple, 5 - Red, 6 - Orange, 7 - Black"
   ]
  },
  {
   "cell_type": "code",
   "execution_count": 84,
   "metadata": {
    "collapsed": true
   },
   "outputs": [],
   "source": [
    "topics = {0: 'Madison Square Garden',\n",
    "          1: 'Kristaps Porzingis',\n",
    "          2: 'Kristaps Porzingis',\n",
    "          3: 'Carmelo Anthony',\n",
    "          4: 'Langston Galloway',\n",
    "          5: 'Derek Fisher',\n",
    "          6: 'Kristaps Porzingis',\n",
    "          7: 'Derek Fisher'}"
   ]
  },
  {
   "cell_type": "code",
   "execution_count": 74,
   "metadata": {
    "collapsed": true
   },
   "outputs": [],
   "source": [
    "grouped_tweets = zip(text,k_means_labels)"
   ]
  },
  {
   "cell_type": "code",
   "execution_count": 75,
   "metadata": {
    "collapsed": true
   },
   "outputs": [],
   "source": [
    "group_0 = [tup for tup in grouped_tweets if tup[1] == 0]\n",
    "group_1 = [tup for tup in grouped_tweets if tup[1] == 1]\n",
    "group_2 = [tup for tup in grouped_tweets if tup[1] == 2]\n",
    "group_3 = [tup for tup in grouped_tweets if tup[1] == 3]\n",
    "group_4 = [tup for tup in grouped_tweets if tup[1] == 4]\n",
    "group_5 = [tup for tup in grouped_tweets if tup[1] == 5]\n",
    "group_6 = [tup for tup in grouped_tweets if tup[1] == 6]\n",
    "group_7 = [tup for tup in grouped_tweets if tup[1] == 7]"
   ]
  },
  {
   "cell_type": "code",
   "execution_count": 76,
   "metadata": {
    "collapsed": false
   },
   "outputs": [
    {
     "name": "stdout",
     "output_type": "stream",
     "text": [
      "         kobe bryant 52\n",
      "        derek fisher 41\n",
      "       square garden 23\n",
      "      madison square 23\n",
      "         yet happens 22\n"
     ]
    }
   ],
   "source": [
    "counter_0 = defaultdict(int)\n",
    "\n",
    "n = 2\n",
    "for tweet,group in group_0:\n",
    "    words = TextBlob(tweet).words\n",
    "    words = [w for w in words if w not in stop]\n",
    "    bigrams = ngrams(words, n)\n",
    "    for gram in bigrams:\n",
    "        counter_0[gram] += 1\n",
    "        \n",
    "for gram, count in sorted(counter_0.items(), key = itemgetter(1), reverse=True)[:5]:\n",
    "    phrase = \" \".join(gram)\n",
    "    print '%20s %i' % (phrase, count)"
   ]
  },
  {
   "cell_type": "code",
   "execution_count": 77,
   "metadata": {
    "collapsed": false
   },
   "outputs": [
    {
     "name": "stdout",
     "output_type": "stream",
     "text": [
      "            home run 69\n",
      "         smart funny 69\n",
      "    porzingis humble 69\n",
      "        humble smart 69\n",
      "     talented knicks 69\n"
     ]
    }
   ],
   "source": [
    "counter_1 = defaultdict(int)\n",
    "\n",
    "n = 2\n",
    "for tweet,group in group_1:\n",
    "    words = TextBlob(tweet).words\n",
    "    words = [w for w in words if w not in stop]\n",
    "    bigrams = ngrams(words, n)\n",
    "    for gram in bigrams:\n",
    "        counter_1[gram] += 1\n",
    "        \n",
    "for gram, count in sorted(counter_1.items(), key = itemgetter(1), reverse=True)[:5]:\n",
    "    phrase = \" \".join(gram)\n",
    "    print '%20s %i' % (phrase, count)"
   ]
  },
  {
   "cell_type": "code",
   "execution_count": 78,
   "metadata": {
    "collapsed": false
   },
   "outputs": [
    {
     "name": "stdout",
     "output_type": "stream",
     "text": [
      "  kristaps porzingis 168\n",
      "       look kristaps 28\n",
      "           points 10 22\n",
      "         10 rebounds 22\n",
      "             's look 18\n"
     ]
    }
   ],
   "source": [
    "counter_2 = defaultdict(int)\n",
    "\n",
    "n = 2\n",
    "for tweet,group in group_2:\n",
    "    words = TextBlob(tweet).words\n",
    "    words = [w for w in words if w not in stop]\n",
    "    bigrams = ngrams(words, n)\n",
    "    for gram in bigrams:\n",
    "        counter_2[gram] += 1\n",
    "        \n",
    "for gram, count in sorted(counter_2.items(), key = itemgetter(1), reverse=True)[:5]:\n",
    "    phrase = \" \".join(gram)\n",
    "    print '%20s %i' % (phrase, count)"
   ]
  },
  {
   "cell_type": "code",
   "execution_count": 79,
   "metadata": {
    "collapsed": false
   },
   "outputs": [
    {
     "name": "stdout",
     "output_type": "stream",
     "text": [
      "     carmelo anthony 34\n",
      "             first 7 29\n",
      "https t.co/6drgg8mbke 25\n",
      "          via nypost 24\n",
      "           17 points 22\n"
     ]
    }
   ],
   "source": [
    "counter_3 = defaultdict(int)\n",
    "\n",
    "n = 2\n",
    "for tweet,group in group_3:\n",
    "    words = TextBlob(tweet).words\n",
    "    words = [w for w in words if w not in stop]\n",
    "    bigrams = ngrams(words, n)\n",
    "    for gram in bigrams:\n",
    "        counter_3[gram] += 1\n",
    "        \n",
    "for gram, count in sorted(counter_3.items(), key = itemgetter(1), reverse=True)[:5]:\n",
    "    phrase = \" \".join(gram)\n",
    "    print '%20s %i' % (phrase, count)"
   ]
  },
  {
   "cell_type": "code",
   "execution_count": 80,
   "metadata": {
    "collapsed": false
   },
   "outputs": [
    {
     "name": "stdout",
     "output_type": "stream",
     "text": [
      "   langston galloway 25\n",
      "              's hit 17\n",
      "          put knicks 16\n",
      "            best nba 16\n",
      "   3-pointers season 16\n"
     ]
    }
   ],
   "source": [
    "counter_4 = defaultdict(int)\n",
    "\n",
    "n = 2\n",
    "for tweet,group in group_4:\n",
    "    words = TextBlob(tweet).words\n",
    "    words = [w for w in words if w not in stop]\n",
    "    bigrams = ngrams(words, n)\n",
    "    for gram in bigrams:\n",
    "        counter_4[gram] += 1\n",
    "        \n",
    "for gram, count in sorted(counter_4.items(), key = itemgetter(1), reverse=True)[:5]:\n",
    "    phrase = \" \".join(gram)\n",
    "    print '%20s %i' % (phrase, count)"
   ]
  },
  {
   "cell_type": "code",
   "execution_count": 81,
   "metadata": {
    "collapsed": false
   },
   "outputs": [
    {
     "name": "stdout",
     "output_type": "stream",
     "text": [
      "        derek fisher 46\n",
      "     jimmer fredette 40\n",
      "   langston galloway 36\n",
      "       arron afflalo 29\n",
      "       galloway went 28\n"
     ]
    }
   ],
   "source": [
    "counter_5 = defaultdict(int)\n",
    "\n",
    "n = 2\n",
    "for tweet,group in group_5:\n",
    "    words = TextBlob(tweet).words\n",
    "    words = [w for w in words if w not in stop]\n",
    "    bigrams = ngrams(words, n)\n",
    "    for gram in bigrams:\n",
    "        counter_5[gram] += 1\n",
    "        \n",
    "for gram, count in sorted(counter_5.items(), key = itemgetter(1), reverse=True)[:5]:\n",
    "    phrase = \" \".join(gram)\n",
    "    print '%20s %i' % (phrase, count)"
   ]
  },
  {
   "cell_type": "code",
   "execution_count": 82,
   "metadata": {
    "collapsed": false
   },
   "outputs": [
    {
     "name": "stdout",
     "output_type": "stream",
     "text": [
      "  kristaps porzingis 80\n",
      "            'm still 50\n",
      "            guy he’s 37\n",
      "           white guy 37\n",
      "          he’s going 37\n"
     ]
    }
   ],
   "source": [
    "counter_6 = defaultdict(int)\n",
    "\n",
    "n = 2\n",
    "for tweet,group in group_6:\n",
    "    words = TextBlob(tweet).words\n",
    "    words = [w for w in words if w not in stop]\n",
    "    bigrams = ngrams(words, n)\n",
    "    for gram in bigrams:\n",
    "        counter_6[gram] += 1\n",
    "        \n",
    "for gram, count in sorted(counter_6.items(), key = itemgetter(1), reverse=True)[:5]:\n",
    "    phrase = \" \".join(gram)\n",
    "    print '%20s %i' % (phrase, count)"
   ]
  },
  {
   "cell_type": "code",
   "execution_count": 83,
   "metadata": {
    "collapsed": false
   },
   "outputs": [
    {
     "name": "stdout",
     "output_type": "stream",
     "text": [
      "    fisher remembers 18\n",
      "        derek fisher 18\n",
      "             kobe 's 18\n",
      "        game madison 18\n",
      "          lot pretty 18\n"
     ]
    }
   ],
   "source": [
    "counter_7 = defaultdict(int)\n",
    "\n",
    "n = 2\n",
    "for tweet,group in group_7:\n",
    "    words = TextBlob(tweet).words\n",
    "    words = [w for w in words if w not in stop]\n",
    "    bigrams = ngrams(words, n)\n",
    "    for gram in bigrams:\n",
    "        counter_7[gram] += 1\n",
    "        \n",
    "for gram, count in sorted(counter_7.items(), key = itemgetter(1), reverse=True)[:5]:\n",
    "    phrase = \" \".join(gram)\n",
    "    print '%20s %i' % (phrase, count)"
   ]
  },
  {
   "cell_type": "code",
   "execution_count": 84,
   "metadata": {
    "collapsed": true
   },
   "outputs": [],
   "source": [
    "topics = {0: 'Madison Square Garden',\n",
    "          1: 'Kristaps Porzingis',\n",
    "          2: 'Kristaps Porzingis',\n",
    "          3: 'Carmelo Anthony',\n",
    "          4: 'Langston Galloway',\n",
    "          5: 'Derek Fisher',\n",
    "          6: 'Kristaps Porzingis',\n",
    "          7: 'Derek Fisher'}"
   ]
  },
  {
   "cell_type": "markdown",
   "metadata": {},
   "source": [
    "### Add Topic to Data"
   ]
  },
  {
   "cell_type": "code",
   "execution_count": 85,
   "metadata": {
    "collapsed": false
   },
   "outputs": [],
   "source": [
    "_ids = []\n",
    "for doc in knicks.find({}, {}):\n",
    "    _id = doc[\"_id\"]\n",
    "    _ids.append(_id)"
   ]
  },
  {
   "cell_type": "code",
   "execution_count": 86,
   "metadata": {
    "collapsed": false
   },
   "outputs": [],
   "source": [
    "id_groups = zip(_ids,k_means_labels)"
   ]
  },
  {
   "cell_type": "code",
   "execution_count": 87,
   "metadata": {
    "collapsed": true
   },
   "outputs": [],
   "source": [
    "id_group_dict = {str(_id): group for _id, group in id_groups}"
   ]
  },
  {
   "cell_type": "code",
   "execution_count": 88,
   "metadata": {
    "collapsed": true
   },
   "outputs": [],
   "source": [
    "for doc in knicks.find({}, {}):\n",
    "    topic = topics[id_group_dict[str(doc[\"_id\"])]]\n",
    "    knicks.update_one({\"_id\": doc[\"_id\"]}, {\"$set\": {\"topic\": topic}})"
   ]
  },
  {
   "cell_type": "code",
   "execution_count": 89,
   "metadata": {
    "collapsed": false,
    "scrolled": true
   },
   "outputs": [
    {
     "name": "stdout",
     "output_type": "stream",
     "text": [
      "{u'topic': u'Carmelo Anthony', u'text': u\"Carmelo Anthony likes the shots he's getting but he's bothered by all the misses: https://t.co/Qqsw696DS0\"}\n",
      "{u'topic': u'Carmelo Anthony', u'text': u\"First LeBron ripped his sleeves, then he ripped the Knicks' hearts out: https://t.co/3zhMC7yePM\"}\n",
      "{u'topic': u'Carmelo Anthony', u'text': u\"I'd like @ScottCacciola and @StevePopper to be forever retired from sporting events. https://t.co/PHPZLwVJQH\"}\n",
      "{u'topic': u'Carmelo Anthony', u'text': u\"Bad foul by Porzingis. He was out of position and pushed Mozgov for his fourth foul, and he's having another good game with 13 points.\"}\n",
      "{u'topic': u'Derek Fisher', u'text': u\"Knicks went 5 1/2 minutes without a field goal but still lead Cavs 42-37 after a Porzingis' put-back dunk.\"}\n"
     ]
    }
   ],
   "source": [
    "for doc in knicks.find({}, {\"text\": 1, \n",
    "                             \"topic\": 1,\n",
    "                             \"_id\": 0}).limit(5):\n",
    "    print doc"
   ]
  },
  {
   "cell_type": "markdown",
   "metadata": {},
   "source": [
    "# Lakers"
   ]
  },
  {
   "cell_type": "markdown",
   "metadata": {},
   "source": [
    "### Sentiment Analysis, Fix Date, Add Team"
   ]
  },
  {
   "cell_type": "code",
   "execution_count": 90,
   "metadata": {
    "collapsed": true
   },
   "outputs": [],
   "source": [
    "client = pymongo.MongoClient()\n",
    "db = client.nbabeatwritertweets\n",
    "lakers = client.nbabeatwritertweets.lakers"
   ]
  },
  {
   "cell_type": "code",
   "execution_count": 91,
   "metadata": {
    "collapsed": false
   },
   "outputs": [],
   "source": [
    "for doc in lakers.find({}, {\"text\": 1, \"datetime\": 1}):\n",
    "    polarity = TextBlob(doc[\"text\"]).polarity\n",
    "    subjectivity = TextBlob(doc[\"text\"]).subjectivity\n",
    "    polarity_group = polarity_group_func(doc[\"text\"])\n",
    "    subjectivity_group = rounded_subj(doc[\"text\"])\n",
    "    date = calc_day(doc['datetime'])\n",
    "    team = 'Los Angelas Lakers'.encode('utf-8')\n",
    "    lakers.update_one({\"_id\": doc[\"_id\"]}, {\"$set\": {\"polarity\": polarity, \n",
    "                                                      \"subjectivity\": subjectivity,\n",
    "                                                      \"polarity_group\": polarity_group,\n",
    "                                                      \"subjectivity_group\": subjectivity_group,\n",
    "                                                      \"date\": date,\n",
    "                                                      \"team\": team}})"
   ]
  },
  {
   "cell_type": "code",
   "execution_count": 92,
   "metadata": {
    "collapsed": false,
    "scrolled": true
   },
   "outputs": [
    {
     "name": "stdout",
     "output_type": "stream",
     "text": [
      "{u'polarity': 0.0, u'reporter': u'Mike Bresnahan', u'text': u\"Here's one thing Kobe won't do when he's done playing: Coaching. \\u201cI don\\u2019t feel like dealing with divas. They\\u2019re a pain in the ass,\\u201d he said.\", u'polarity_group': u'Neutral', u'team': u'Los Angelas Lakers', u'subjectivity_group': 0.0, u'subjectivity': 0.0, u'date': u'11/07/15'}\n",
      "{u'polarity': 0.0, u'reporter': u'Mike Bresnahan', u'text': u'Jordan Clarkson taking pictures of the cameras following Kobe around for his documentary. https://t.co/3ea9lA2kce', u'polarity_group': u'Neutral', u'team': u'Los Angelas Lakers', u'subjectivity_group': 0.1, u'subjectivity': 0.05, u'date': u'11/07/15'}\n",
      "{u'polarity': 0.0, u'reporter': u'Mike Bresnahan', u'text': u\"Only two outcomes left for Kobe...Retire or return to Lakers: 'Laker for life' Bryant says he won't sign elsewhere https://t.co/8wdeS8coPX\", u'polarity_group': u'Neutral', u'team': u'Los Angelas Lakers', u'subjectivity_group': 0.5, u'subjectivity': 0.5, u'date': u'11/07/15'}\n",
      "{u'polarity': 0.04166666666666667, u'reporter': u'Mike Bresnahan', u'text': u\"D'Angelo Russell, Lakers on a roll. Rookie had 10 points in first half, Lakers lead Nets, 52-47.\", u'polarity_group': u'Positive', u'team': u'Los Angelas Lakers', u'subjectivity_group': 0.3, u'subjectivity': 0.25, u'date': u'11/07/15'}\n",
      "{u'polarity': -0.10000000000000002, u'reporter': u'Mike Bresnahan', u'text': u\"Laker GM Mitch Kupchak is in NY for tonight's game. He occasionally goes on road trips but I can't remember him ever traveling this early.\", u'polarity_group': u'Negative', u'team': u'Los Angelas Lakers', u'subjectivity_group': 0.3, u'subjectivity': 0.27499999999999997, u'date': u'11/06/15'}\n"
     ]
    }
   ],
   "source": [
    "for doc in lakers.find({}, {\"reporter\": 1, \n",
    "                             \"text\": 1, \n",
    "                             \"polarity\": 1, \n",
    "                             \"subjectivity\": 1,\n",
    "                             \"polarity_group\": 1,\n",
    "                             \"subjectivity_group\": 1,\n",
    "                             \"date\": 1,\n",
    "                             \"team\": 1,\n",
    "                             \"_id\": 0}).limit(5):\n",
    "    print doc"
   ]
  },
  {
   "cell_type": "markdown",
   "metadata": {},
   "source": [
    "### Topic Modeling"
   ]
  },
  {
   "cell_type": "code",
   "execution_count": 93,
   "metadata": {
    "collapsed": true
   },
   "outputs": [],
   "source": [
    "tweets = []\n",
    "for doc in lakers.find({}, {\"text\": 1}):\n",
    "    tweet = doc[\"text\"]\n",
    "    tweets.append(tweet)"
   ]
  },
  {
   "cell_type": "code",
   "execution_count": 94,
   "metadata": {
    "collapsed": true
   },
   "outputs": [],
   "source": [
    "text = [\" \".join([w for w in doc.lower().split() if w not in stop]) for doc in tweets]"
   ]
  },
  {
   "cell_type": "code",
   "execution_count": 95,
   "metadata": {
    "collapsed": true
   },
   "outputs": [],
   "source": [
    "vectorizer = CountVectorizer()\n",
    "vectorizer.fit(text)\n",
    "x = vectorizer.transform(text)\n",
    "x_back = x.toarray()\n",
    "X_bag = pd.DataFrame(x_back, columns=vectorizer.get_feature_names())"
   ]
  },
  {
   "cell_type": "code",
   "execution_count": 96,
   "metadata": {
    "collapsed": false
   },
   "outputs": [],
   "source": [
    "scaler = MinMaxScaler()\n",
    "X_bag_scaled = pd.DataFrame(scaler.fit_transform(X_bag), columns=X_bag.columns)"
   ]
  },
  {
   "cell_type": "code",
   "execution_count": 97,
   "metadata": {
    "collapsed": true
   },
   "outputs": [],
   "source": [
    "reducer = PCA(n_components = 2)\n",
    "reduced_X = reducer.fit_transform(X_bag_scaled)"
   ]
  },
  {
   "cell_type": "code",
   "execution_count": 98,
   "metadata": {
    "collapsed": false
   },
   "outputs": [],
   "source": [
    "pca_components = reducer.components_"
   ]
  },
  {
   "cell_type": "code",
   "execution_count": 99,
   "metadata": {
    "collapsed": false
   },
   "outputs": [
    {
     "name": "stdout",
     "output_type": "stream",
     "text": [
      "[[  2.36106924e-03  -7.22033275e-04   6.01957714e-04 ...,  -2.25834590e-03\n",
      "   -1.52478920e-03  -8.87324320e-04]\n",
      " [  3.75001040e-03   7.65858815e-05   5.38134447e-04 ...,  -1.33522407e-04\n",
      "    2.91770444e-04   3.63106293e-04]]\n",
      "(2, 4566)\n"
     ]
    }
   ],
   "source": [
    "print pca_components\n",
    "print pca_components.shape"
   ]
  },
  {
   "cell_type": "code",
   "execution_count": 100,
   "metadata": {
    "collapsed": false,
    "scrolled": true
   },
   "outputs": [
    {
     "data": {
      "text/plain": [
       "KMeans(copy_x=True, init='k-means++', max_iter=300, n_clusters=8, n_init=10,\n",
       "    n_jobs=1, precompute_distances='auto', random_state=None, tol=0.0001,\n",
       "    verbose=0)"
      ]
     },
     "execution_count": 100,
     "metadata": {},
     "output_type": "execute_result"
    }
   ],
   "source": [
    "kmeans = KMeans(n_clusters=8)\n",
    "kmeans.fit(reduced_X)"
   ]
  },
  {
   "cell_type": "code",
   "execution_count": 101,
   "metadata": {
    "collapsed": false,
    "scrolled": false
   },
   "outputs": [
    {
     "data": {
      "text/plain": [
       "['lakers_kmeans.pkl', 'lakers_kmeans.pkl_01.npy', 'lakers_kmeans.pkl_02.npy']"
      ]
     },
     "execution_count": 101,
     "metadata": {},
     "output_type": "execute_result"
    }
   ],
   "source": [
    "joblib.dump(kmeans, 'lakers_kmeans.pkl')"
   ]
  },
  {
   "cell_type": "code",
   "execution_count": 102,
   "metadata": {
    "collapsed": false
   },
   "outputs": [],
   "source": [
    "kmeans = joblib.load('lakers_kmeans.pkl')"
   ]
  },
  {
   "cell_type": "code",
   "execution_count": 103,
   "metadata": {
    "collapsed": true
   },
   "outputs": [],
   "source": [
    "k_means_labels = kmeans.labels_\n",
    "k_means_cluster_centers = kmeans.cluster_centers_\n",
    "k_means_labels_unique = np.unique(k_means_labels)\n",
    "n_clusters = len(k_means_cluster_centers)"
   ]
  },
  {
   "cell_type": "code",
   "execution_count": 104,
   "metadata": {
    "collapsed": false
   },
   "outputs": [
    {
     "data": {
      "image/png": "[encoded data removed]",
      "text/plain": [
       "<matplotlib.figure.Figure at 0x1029b9190>"
      ]
     },
     "metadata": {},
     "output_type": "display_data"
    }
   ],
   "source": [
    "colors = ['#4EACC5', '#FF9C34', '#4E9A06', '#FF69B4', '#A020F0', '#FF524D', '#FF7F00', '#2D2D2D', '#585555', '#601c1c']\n",
    "plt.figure()\n",
    "plt.hold(True)\n",
    "for k, col in zip(range(n_clusters), colors):\n",
    "    my_members = k_means_labels == k\n",
    "    cluster_center = k_means_cluster_centers[k]\n",
    "    plt.plot(reduced_X[my_members, 0], reduced_X[my_members, 1], 'w',\n",
    "            markerfacecolor=col, marker='.')\n",
    "    plt.plot(cluster_center[0], cluster_center[1], 'o', markerfacecolor=col,\n",
    "            markeredgecolor='k', markersize=6)\n",
    "plt.title('KMeans')    \n",
    "plt.grid(True)\n",
    "plt.show()"
   ]
  },
  {
   "cell_type": "markdown",
   "metadata": {},
   "source": [
    "0 - Blue, 1 - Yellow, 2 - Green, 3 - Pink, 4 - Purple, 5 - Red, 6 - Orange, 7 - Black"
   ]
  },
  {
   "cell_type": "code",
   "execution_count": 105,
   "metadata": {
    "collapsed": true
   },
   "outputs": [],
   "source": [
    "grouped_tweets = zip(text,k_means_labels)"
   ]
  },
  {
   "cell_type": "code",
   "execution_count": 106,
   "metadata": {
    "collapsed": true
   },
   "outputs": [],
   "source": [
    "group_0 = [tup for tup in grouped_tweets if tup[1] == 0]\n",
    "group_1 = [tup for tup in grouped_tweets if tup[1] == 1]\n",
    "group_2 = [tup for tup in grouped_tweets if tup[1] == 2]\n",
    "group_3 = [tup for tup in grouped_tweets if tup[1] == 3]\n",
    "group_4 = [tup for tup in grouped_tweets if tup[1] == 4]\n",
    "group_5 = [tup for tup in grouped_tweets if tup[1] == 5]\n",
    "group_6 = [tup for tup in grouped_tweets if tup[1] == 6]\n",
    "group_7 = [tup for tup in grouped_tweets if tup[1] == 7]"
   ]
  },
  {
   "cell_type": "code",
   "execution_count": 107,
   "metadata": {
    "collapsed": false
   },
   "outputs": [
    {
     "name": "stdout",
     "output_type": "stream",
     "text": [
      "         byron scott 75\n",
      "    d’angelo russell 61\n",
      "             kobe 's 60\n",
      "        derek fisher 55\n",
      "         kobe bryant 45\n"
     ]
    }
   ],
   "source": [
    "counter_0 = defaultdict(int)\n",
    "\n",
    "n = 2\n",
    "for tweet,group in group_0:\n",
    "    words = TextBlob(tweet).words\n",
    "    words = [w for w in words if w not in stop]\n",
    "    bigrams = ngrams(words, n)\n",
    "    for gram in bigrams:\n",
    "        counter_0[gram] += 1\n",
    "        \n",
    "for gram, count in sorted(counter_0.items(), key = itemgetter(1), reverse=True)[:5]:\n",
    "    phrase = \" \".join(gram)\n",
    "    print '%20s %i' % (phrase, count)"
   ]
  },
  {
   "cell_type": "code",
   "execution_count": 108,
   "metadata": {
    "collapsed": false
   },
   "outputs": [
    {
     "name": "stdout",
     "output_type": "stream",
     "text": [
      "    d'angelo russell 55\n",
      "     jordan clarkson 30\n",
      "           6-6 lower 26\n",
      "        merion https 26\n",
      "         world peace 26\n"
     ]
    }
   ],
   "source": [
    "counter_1 = defaultdict(int)\n",
    "\n",
    "n = 2\n",
    "for tweet,group in group_1:\n",
    "    words = TextBlob(tweet).words\n",
    "    words = [w for w in words if w not in stop]\n",
    "    bigrams = ngrams(words, n)\n",
    "    for gram in bigrams:\n",
    "        counter_1[gram] += 1\n",
    "        \n",
    "for gram, count in sorted(counter_1.items(), key = itemgetter(1), reverse=True)[:5]:\n",
    "    phrase = \" \".join(gram)\n",
    "    print '%20s %i' % (phrase, count)"
   ]
  },
  {
   "cell_type": "code",
   "execution_count": 109,
   "metadata": {
    "collapsed": false
   },
   "outputs": [
    {
     "name": "stdout",
     "output_type": "stream",
     "text": [
      "          scott said 101\n",
      "           last year 97\n",
      "           said kobe 71\n",
      "          might last 62\n",
      "         byron scott 62\n"
     ]
    }
   ],
   "source": [
    "counter_2 = defaultdict(int)\n",
    "\n",
    "n = 2\n",
    "for tweet,group in group_2:\n",
    "    words = TextBlob(tweet).words\n",
    "    words = [w for w in words if w not in stop]\n",
    "    bigrams = ngrams(words, n)\n",
    "    for gram in bigrams:\n",
    "        counter_2[gram] += 1\n",
    "        \n",
    "for gram, count in sorted(counter_2.items(), key = itemgetter(1), reverse=True)[:5]:\n",
    "    phrase = \" \".join(gram)\n",
    "    print '%20s %i' % (phrase, count)"
   ]
  },
  {
   "cell_type": "code",
   "execution_count": 110,
   "metadata": {
    "collapsed": false
   },
   "outputs": [
    {
     "name": "stdout",
     "output_type": "stream",
     "text": [
      "         kobe bryant 153\n",
      "         byron scott 97\n",
      "             kobe 's 73\n",
      "          scott said 54\n",
      "          byron said 51\n"
     ]
    }
   ],
   "source": [
    "counter_3 = defaultdict(int)\n",
    "\n",
    "n = 2\n",
    "for tweet,group in group_3:\n",
    "    words = TextBlob(tweet).words\n",
    "    words = [w for w in words if w not in stop]\n",
    "    bigrams = ngrams(words, n)\n",
    "    for gram in bigrams:\n",
    "        counter_3[gram] += 1\n",
    "        \n",
    "for gram, count in sorted(counter_3.items(), key = itemgetter(1), reverse=True)[:5]:\n",
    "    phrase = \" \".join(gram)\n",
    "    print '%20s %i' % (phrase, count)"
   ]
  },
  {
   "cell_type": "code",
   "execution_count": 111,
   "metadata": {
    "collapsed": false
   },
   "outputs": [
    {
     "name": "stdout",
     "output_type": "stream",
     "text": [
      "    d'angelo russell 77\n",
      "       julius randle 62\n",
      "         world peace 61\n",
      "         metta world 57\n",
      "        lou williams 49\n"
     ]
    }
   ],
   "source": [
    "counter_4 = defaultdict(int)\n",
    "\n",
    "n = 2\n",
    "for tweet,group in group_4:\n",
    "    words = TextBlob(tweet).words\n",
    "    words = [w for w in words if w not in stop]\n",
    "    bigrams = ngrams(words, n)\n",
    "    for gram in bigrams:\n",
    "        counter_4[gram] += 1\n",
    "        \n",
    "for gram, count in sorted(counter_4.items(), key = itemgetter(1), reverse=True)[:5]:\n",
    "    phrase = \" \".join(gram)\n",
    "    print '%20s %i' % (phrase, count)"
   ]
  },
  {
   "cell_type": "code",
   "execution_count": 112,
   "metadata": {
    "collapsed": false
   },
   "outputs": [
    {
     "name": "stdout",
     "output_type": "stream",
     "text": [
      "https t.co/2nhidk8wdm 23\n",
      "       kobe possibly 23\n",
      "      possibly final 23\n",
      "t.co/espwbgsqpd https 23\n",
      "           final msg 23\n"
     ]
    }
   ],
   "source": [
    "counter_5 = defaultdict(int)\n",
    "\n",
    "n = 2\n",
    "for tweet,group in group_5:\n",
    "    words = TextBlob(tweet).words\n",
    "    words = [w for w in words if w not in stop]\n",
    "    bigrams = ngrams(words, n)\n",
    "    for gram in bigrams:\n",
    "        counter_5[gram] += 1\n",
    "        \n",
    "for gram, count in sorted(counter_5.items(), key = itemgetter(1), reverse=True)[:5]:\n",
    "    phrase = \" \".join(gram)\n",
    "    print '%20s %i' % (phrase, count)"
   ]
  },
  {
   "cell_type": "code",
   "execution_count": 113,
   "metadata": {
    "collapsed": false
   },
   "outputs": [
    {
     "name": "stdout",
     "output_type": "stream",
     "text": [
      "         kobe bryant 167\n",
      "         byron scott 85\n",
      "           last year 30\n",
      "          last night 28\n",
      "         asked today 25\n"
     ]
    }
   ],
   "source": [
    "counter_6 = defaultdict(int)\n",
    "\n",
    "n = 2\n",
    "for tweet,group in group_6:\n",
    "    words = TextBlob(tweet).words\n",
    "    words = [w for w in words if w not in stop]\n",
    "    bigrams = ngrams(words, n)\n",
    "    for gram in bigrams:\n",
    "        counter_6[gram] += 1\n",
    "        \n",
    "for gram, count in sorted(counter_6.items(), key = itemgetter(1), reverse=True)[:5]:\n",
    "    phrase = \" \".join(gram)\n",
    "    print '%20s %i' % (phrase, count)"
   ]
  },
  {
   "cell_type": "code",
   "execution_count": 114,
   "metadata": {
    "collapsed": false
   },
   "outputs": [
    {
     "name": "stdout",
     "output_type": "stream",
     "text": [
      "            nance jr 90\n",
      "         larry nance 79\n",
      "          nick young 67\n",
      "    d’angelo russell 64\n",
      "           13 points 40\n"
     ]
    }
   ],
   "source": [
    "counter_7 = defaultdict(int)\n",
    "\n",
    "n = 2\n",
    "for tweet,group in group_7:\n",
    "    words = TextBlob(tweet).words\n",
    "    words = [w for w in words if w not in stop]\n",
    "    bigrams = ngrams(words, n)\n",
    "    for gram in bigrams:\n",
    "        counter_7[gram] += 1\n",
    "        \n",
    "for gram, count in sorted(counter_7.items(), key = itemgetter(1), reverse=True)[:5]:\n",
    "    phrase = \" \".join(gram)\n",
    "    print '%20s %i' % (phrase, count)"
   ]
  },
  {
   "cell_type": "code",
   "execution_count": 115,
   "metadata": {
    "collapsed": true
   },
   "outputs": [],
   "source": [
    "topics = {0: 'Kobe Bryant',\n",
    "          1: \"D'Angelo Russell\",\n",
    "          2: 'Byron Scott',\n",
    "          3: 'Kobe Bryant',\n",
    "          4: \"Non-Kobe Lakers\",\n",
    "          5: 'Kobe Bryant',\n",
    "          6: 'Kobe Bryant',\n",
    "          7: 'Larry Nancy Jr.'}"
   ]
  },
  {
   "cell_type": "markdown",
   "metadata": {},
   "source": [
    "### Add Topic to Data"
   ]
  },
  {
   "cell_type": "code",
   "execution_count": 116,
   "metadata": {
    "collapsed": false
   },
   "outputs": [],
   "source": [
    "_ids = []\n",
    "for doc in lakers.find({}, {}):\n",
    "    _id = doc[\"_id\"]\n",
    "    _ids.append(_id)"
   ]
  },
  {
   "cell_type": "code",
   "execution_count": 117,
   "metadata": {
    "collapsed": false
   },
   "outputs": [],
   "source": [
    "id_groups = zip(_ids,k_means_labels)"
   ]
  },
  {
   "cell_type": "code",
   "execution_count": 118,
   "metadata": {
    "collapsed": true
   },
   "outputs": [],
   "source": [
    "id_group_dict = {str(_id): group for _id, group in id_groups}"
   ]
  },
  {
   "cell_type": "code",
   "execution_count": 119,
   "metadata": {
    "collapsed": true
   },
   "outputs": [],
   "source": [
    "for doc in lakers.find({}, {}):\n",
    "    topic = topics[id_group_dict[str(doc[\"_id\"])]]\n",
    "    lakers.update_one({\"_id\": doc[\"_id\"]}, {\"$set\": {\"topic\": topic}})"
   ]
  },
  {
   "cell_type": "code",
   "execution_count": 120,
   "metadata": {
    "collapsed": false
   },
   "outputs": [
    {
     "name": "stdout",
     "output_type": "stream",
     "text": [
      "{u'topic': u'Kobe Bryant', u'text': u\"Here's one thing Kobe won't do when he's done playing: Coaching. \\u201cI don\\u2019t feel like dealing with divas. They\\u2019re a pain in the ass,\\u201d he said.\"}\n",
      "{u'topic': u\"D'Angelo Russell\", u'text': u'Jordan Clarkson taking pictures of the cameras following Kobe around for his documentary. https://t.co/3ea9lA2kce'}\n",
      "{u'topic': u'Kobe Bryant', u'text': u\"Only two outcomes left for Kobe...Retire or return to Lakers: 'Laker for life' Bryant says he won't sign elsewhere https://t.co/8wdeS8coPX\"}\n",
      "{u'topic': u'Larry Nancy Jr.', u'text': u\"D'Angelo Russell, Lakers on a roll. Rookie had 10 points in first half, Lakers lead Nets, 52-47.\"}\n",
      "{u'topic': u'Non-Kobe Lakers', u'text': u\"Laker GM Mitch Kupchak is in NY for tonight's game. He occasionally goes on road trips but I can't remember him ever traveling this early.\"}\n"
     ]
    }
   ],
   "source": [
    "for doc in lakers.find({}, {\"text\": 1, \n",
    "                             \"topic\": 1,\n",
    "                             \"_id\": 0}).limit(5):\n",
    "    print doc"
   ]
  },
  {
   "cell_type": "code",
   "execution_count": null,
   "metadata": {
    "collapsed": true
   },
   "outputs": [],
   "source": []
  }
 ],
 "metadata": {
  "kernelspec": {
   "display_name": "Python 2",
   "language": "python",
   "name": "python2"
  },
  "language_info": {
   "codemirror_mode": {
    "name": "ipython",
    "version": 2
   },
   "file_extension": ".py",
   "mimetype": "text/x-python",
   "name": "python",
   "nbconvert_exporter": "python",
   "pygments_lexer": "ipython2",
   "version": "2.7.10"
  }
 },
 "nbformat": 4,
 "nbformat_minor": 0
}
